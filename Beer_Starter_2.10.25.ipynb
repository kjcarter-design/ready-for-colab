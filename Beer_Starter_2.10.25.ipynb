{
 "cells": [
  {
   "cell_type": "markdown",
   "id": "57362bb7",
   "metadata": {
    "id": "57362bb7",
    "toc": true
   },
   "source": [
    "<h1><span class=\"tocSkip\"></span></h1>\n",
    "<div class=\"toc\"><ul class=\"toc-item\"><li><span><a href=\"#Part-1---Manipulating-the-data\" data-toc-modified-id=\"Part-1---Manipulating-the-data-1\"><span class=\"toc-item-num\">1&nbsp;&nbsp;</span>Part 1 - Manipulating the data</a></span></li><li><span><a href=\"#Feature-Exercise\" data-toc-modified-id=\"Feature-Exercise-2\"><span class=\"toc-item-num\">2&nbsp;&nbsp;</span>Feature Exercise</a></span></li><li><span><a href=\"#Part-2---Using-Groupby()\" data-toc-modified-id=\"Part-2---Using-Groupby()-3\"><span class=\"toc-item-num\">3&nbsp;&nbsp;</span>Part 2 - Using Groupby()</a></span></li><li><span><a href=\"#Part-3---Merging-a-dataframe\" data-toc-modified-id=\"Part-3---Merging-a-dataframe-4\"><span class=\"toc-item-num\">4&nbsp;&nbsp;</span>Part 3 - Merging a dataframe</a></span></li></ul></div>"
   ]
  },
  {
   "cell_type": "markdown",
   "id": "ee6a7ca0",
   "metadata": {
    "id": "ee6a7ca0"
   },
   "source": [
    "# Part 1 - Manipulating the data"
   ]
  },
  {
   "cell_type": "code",
   "execution_count": null,
   "id": "f3654f69",
   "metadata": {
    "id": "f3654f69"
   },
   "outputs": [],
   "source": [
    "# What imports do you need?\n",
    "\n"
   ]
  },
  {
   "cell_type": "code",
   "execution_count": null,
   "id": "3773f5f5",
   "metadata": {
    "id": "3773f5f5"
   },
   "outputs": [],
   "source": [
    "# Use the beer dataset\n",
    "\n",
    "# 'https://raw.githubusercontent.com/jimcody2014/python_data/refs/heads/main/beers.csv'\n"
   ]
  },
  {
   "cell_type": "code",
   "execution_count": null,
   "id": "66a9443b",
   "metadata": {
    "id": "66a9443b"
   },
   "outputs": [],
   "source": [
    "# brewery_id 177 is coded incorrectly.  It is coded as 1770.  Correct the coding.\n",
    "\n",
    "# Choose 1 approach\n",
    "# Boolean indexing\n",
    "\n",
    "\n",
    "# Using replace\n",
    "\n",
    "\n",
    "# Using apply with a lambda function\n"
   ]
  },
  {
   "cell_type": "code",
   "execution_count": null,
   "id": "8c3dbc9d",
   "metadata": {
    "id": "8c3dbc9d"
   },
   "outputs": [],
   "source": [
    "# Some of the American Pale Ale styles are misspelled.  \n",
    "# Correct those that have All to Ale, Pall to Pale and Americn to American.\n",
    "\n"
   ]
  },
  {
   "cell_type": "code",
   "execution_count": null,
   "id": "5e3ff9ad",
   "metadata": {
    "id": "5e3ff9ad"
   },
   "outputs": [],
   "source": [
    "# Change the id and brewery_id to a string object\n",
    "\n"
   ]
  },
  {
   "cell_type": "code",
   "execution_count": null,
   "id": "e94fa1b3",
   "metadata": {
    "id": "e94fa1b3"
   },
   "outputs": [],
   "source": [
    "# Rename id to beer_id\n"
   ]
  },
  {
   "cell_type": "code",
   "execution_count": null,
   "id": "f2333670",
   "metadata": {
    "id": "f2333670"
   },
   "outputs": [],
   "source": [
    "# There are three rows with duplicated data.  Remove the duplicates.\n",
    "\n"
   ]
  },
  {
   "cell_type": "code",
   "execution_count": null,
   "id": "50c3fb81",
   "metadata": {
    "id": "50c3fb81"
   },
   "outputs": [],
   "source": [
    "# Which columns have missing values?\n"
   ]
  },
  {
   "cell_type": "code",
   "execution_count": null,
   "id": "f68369a3",
   "metadata": {
    "id": "f68369a3"
   },
   "outputs": [],
   "source": [
    "# Create a plot of the missing values.\n",
    "\n"
   ]
  },
  {
   "cell_type": "code",
   "execution_count": null,
   "id": "a9279b16",
   "metadata": {
    "id": "a9279b16"
   },
   "outputs": [],
   "source": [
    "# If abv contins any missing values, substitute with the median value for the column.\n"
   ]
  },
  {
   "cell_type": "code",
   "execution_count": null,
   "id": "b69c7326",
   "metadata": {
    "id": "b69c7326"
   },
   "outputs": [],
   "source": [
    "# If any column has more than 35% missing data, drop the column.\n"
   ]
  },
  {
   "cell_type": "code",
   "execution_count": null,
   "id": "d42f7725",
   "metadata": {
    "id": "d42f7725"
   },
   "outputs": [],
   "source": [
    "# If you think the first column is just a row id, drop it.\n"
   ]
  },
  {
   "cell_type": "code",
   "execution_count": null,
   "id": "36dd0cef",
   "metadata": {
    "id": "36dd0cef"
   },
   "outputs": [],
   "source": [
    "# Do any rows have a missing brewery_id?  If yes, drop the row."
   ]
  },
  {
   "cell_type": "code",
   "execution_count": null,
   "id": "57ab65db",
   "metadata": {
    "id": "57ab65db"
   },
   "outputs": [],
   "source": [
    "# Create a visualization for each categorical column.\n",
    "\n"
   ]
  },
  {
   "cell_type": "code",
   "execution_count": null,
   "id": "97e248d5",
   "metadata": {
    "id": "97e248d5"
   },
   "outputs": [],
   "source": [
    "# Create a histogram for each numerical column.\n"
   ]
  },
  {
   "cell_type": "code",
   "execution_count": null,
   "id": "c0558bbb",
   "metadata": {
    "id": "c0558bbb"
   },
   "outputs": [],
   "source": [
    "# Remove any rows where the ounces value is an outlier.\n",
    "\n"
   ]
  },
  {
   "cell_type": "markdown",
   "id": "CzYVgu0ywyyf",
   "metadata": {
    "id": "CzYVgu0ywyyf"
   },
   "source": [
    "# Feature Exercise"
   ]
  },
  {
   "cell_type": "code",
   "execution_count": null,
   "id": "d3c489f4-24b2-4d75-93da-701966183999",
   "metadata": {},
   "outputs": [],
   "source": [
    "# Create a dataframe that contains all columns for beers that have an abv above 0.075"
   ]
  },
  {
   "cell_type": "code",
   "execution_count": null,
   "id": "EydxNujbw5jD",
   "metadata": {
    "id": "EydxNujbw5jD"
   },
   "outputs": [],
   "source": [
    "# Create a dataframe that contains all columns for cider style beers\n",
    "\n"
   ]
  },
  {
   "cell_type": "markdown",
   "id": "3bd72352",
   "metadata": {
    "id": "3bd72352"
   },
   "source": [
    "# Part 2 - Using Groupby()"
   ]
  },
  {
   "cell_type": "code",
   "execution_count": null,
   "id": "90a27030",
   "metadata": {
    "id": "90a27030"
   },
   "outputs": [],
   "source": [
    "# What is the mean abv for each style?\n"
   ]
  },
  {
   "cell_type": "code",
   "execution_count": null,
   "id": "d6e27113",
   "metadata": {
    "id": "d6e27113"
   },
   "outputs": [],
   "source": [
    "# What is the mean for abv and ounces for each style, brewery_id combination?\n"
   ]
  },
  {
   "cell_type": "markdown",
   "id": "12f6f52b",
   "metadata": {
    "id": "12f6f52b"
   },
   "source": [
    "# Part 3 - Merging a dataframe"
   ]
  },
  {
   "cell_type": "code",
   "execution_count": null,
   "id": "44a30cdf",
   "metadata": {
    "id": "44a30cdf"
   },
   "outputs": [],
   "source": [
    "# Read in the breweries data\n"
   ]
  },
  {
   "cell_type": "code",
   "execution_count": null,
   "id": "4d178776",
   "metadata": {
    "id": "4d178776"
   },
   "outputs": [],
   "source": [
    "# Remove the unnamed column\n"
   ]
  },
  {
   "cell_type": "code",
   "execution_count": null,
   "id": "7f50101f",
   "metadata": {
    "id": "7f50101f"
   },
   "outputs": [],
   "source": [
    "# Merge the beer df with the breweries df.\n",
    "# What columns will the merge be based on?\n",
    "# Are those columns the same datatype?  Merge columns have to be the same datatype.\n"
   ]
  }
 ],
 "metadata": {
  "colab": {
   "collapsed_sections": [],
   "name": "Copy of Beer-Solution.ipynb",
   "provenance": []
  },
  "kernelspec": {
   "display_name": "Python 3 (ipykernel)",
   "language": "python",
   "name": "python3"
  },
  "language_info": {
   "codemirror_mode": {
    "name": "ipython",
    "version": 3
   },
   "file_extension": ".py",
   "mimetype": "text/x-python",
   "name": "python",
   "nbconvert_exporter": "python",
   "pygments_lexer": "ipython3",
   "version": "3.12.7"
  },
  "toc": {
   "base_numbering": 1,
   "nav_menu": {},
   "number_sections": true,
   "sideBar": false,
   "skip_h1_title": false,
   "title_cell": "",
   "title_sidebar": "Contents",
   "toc_cell": true,
   "toc_position": {
    "height": "calc(100% - 180px)",
    "left": "10px",
    "top": "150px",
    "width": "165px"
   },
   "toc_section_display": true,
   "toc_window_display": false
  },
  "varInspector": {
   "cols": {
    "lenName": 16,
    "lenType": 16,
    "lenVar": 40
   },
   "kernels_config": {
    "python": {
     "delete_cmd_postfix": "",
     "delete_cmd_prefix": "del ",
     "library": "var_list.py",
     "varRefreshCmd": "print(var_dic_list())"
    },
    "r": {
     "delete_cmd_postfix": ") ",
     "delete_cmd_prefix": "rm(",
     "library": "var_list.r",
     "varRefreshCmd": "cat(var_dic_list()) "
    }
   },
   "types_to_exclude": [
    "module",
    "function",
    "builtin_function_or_method",
    "instance",
    "_Feature"
   ],
   "window_display": false
  }
 },
 "nbformat": 4,
 "nbformat_minor": 5
}
