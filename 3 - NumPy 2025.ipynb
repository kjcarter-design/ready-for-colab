{
 "cells": [
  {
   "cell_type": "markdown",
   "id": "d5ea8c11",
   "metadata": {
    "toc": true
   },
   "source": [
    "<h1>Table of Contents<span class=\"tocSkip\"></span></h1>\n",
    "<div class=\"toc\"><ul class=\"toc-item\"><li><span><a href=\"#Overview\" data-toc-modified-id=\"Overview-1\"><span class=\"toc-item-num\">1&nbsp;&nbsp;</span>Overview</a></span></li><li><span><a href=\"#Import-NumPy\" data-toc-modified-id=\"Import-NumPy-2\"><span class=\"toc-item-num\">2&nbsp;&nbsp;</span>Import NumPy</a></span></li><li><span><a href=\"#Arrays\" data-toc-modified-id=\"Arrays-3\"><span class=\"toc-item-num\">3&nbsp;&nbsp;</span>Arrays</a></span><ul class=\"toc-item\"><li><span><a href=\"#Creating-a-NumPy-array:\" data-toc-modified-id=\"Creating-a-NumPy-array:-3.1\"><span class=\"toc-item-num\">3.1&nbsp;&nbsp;</span>Creating a NumPy array:</a></span><ul class=\"toc-item\"><li><span><a href=\"#arange()\" data-toc-modified-id=\"arange()-3.1.1\"><span class=\"toc-item-num\">3.1.1&nbsp;&nbsp;</span>arange()</a></span></li><li><span><a href=\"#np.linspace()\" data-toc-modified-id=\"np.linspace()-3.1.2\"><span class=\"toc-item-num\">3.1.2&nbsp;&nbsp;</span>np.linspace()</a></span></li></ul></li><li><span><a href=\"#Arrays-with-Random-Numbers\" data-toc-modified-id=\"Arrays-with-Random-Numbers-3.2\"><span class=\"toc-item-num\">3.2&nbsp;&nbsp;</span>Arrays with Random Numbers</a></span><ul class=\"toc-item\"><li><span><a href=\"#Sort\" data-toc-modified-id=\"Sort-3.2.1\"><span class=\"toc-item-num\">3.2.1&nbsp;&nbsp;</span>Sort</a></span></li><li><span><a href=\"#Concatenate\" data-toc-modified-id=\"Concatenate-3.2.2\"><span class=\"toc-item-num\">3.2.2&nbsp;&nbsp;</span>Concatenate</a></span></li></ul></li><li><span><a href=\"#Shape-and-Reshape\" data-toc-modified-id=\"Shape-and-Reshape-3.3\"><span class=\"toc-item-num\">3.3&nbsp;&nbsp;</span>Shape and Reshape</a></span></li><li><span><a href=\"#Transpose-(swap-axes)-a-matrix\" data-toc-modified-id=\"Transpose-(swap-axes)-a-matrix-3.4\"><span class=\"toc-item-num\">3.4&nbsp;&nbsp;</span>Transpose (swap axes) a matrix</a></span></li></ul></li><li><span><a href=\"#Indexing,-Slicing-&amp;-Selecting\" data-toc-modified-id=\"Indexing,-Slicing-&amp;-Selecting-4\"><span class=\"toc-item-num\">4&nbsp;&nbsp;</span>Indexing, Slicing &amp; Selecting</a></span><ul class=\"toc-item\"><li><span><a href=\"#Indexing-a-2d-array-(matrix)\" data-toc-modified-id=\"Indexing-a-2d-array-(matrix)-4.1\"><span class=\"toc-item-num\">4.1&nbsp;&nbsp;</span>Indexing a 2d array (matrix)</a></span></li><li><span><a href=\"#Selecting-(if-time-permits)\" data-toc-modified-id=\"Selecting-(if-time-permits)-4.2\"><span class=\"toc-item-num\">4.2&nbsp;&nbsp;</span>Selecting (if time permits)</a></span></li></ul></li><li><span><a href=\"#Operations\" data-toc-modified-id=\"Operations-5\"><span class=\"toc-item-num\">5&nbsp;&nbsp;</span>Operations</a></span><ul class=\"toc-item\"><li><span><a href=\"#Numpy-Array-Aggregate-Functions\" data-toc-modified-id=\"Numpy-Array-Aggregate-Functions-5.1\"><span class=\"toc-item-num\">5.1&nbsp;&nbsp;</span>Numpy Array Aggregate Functions</a></span></li><li><span><a href=\"#Broadcasting\" data-toc-modified-id=\"Broadcasting-5.2\"><span class=\"toc-item-num\">5.2&nbsp;&nbsp;</span>Broadcasting</a></span></li></ul></li><li><span><a href=\"#Exercises\" data-toc-modified-id=\"Exercises-6\"><span class=\"toc-item-num\">6&nbsp;&nbsp;</span>Exercises</a></span></li></ul></div>"
   ]
  },
  {
   "cell_type": "markdown",
   "id": "9cbfb3dd",
   "metadata": {},
   "source": [
    "# Overview \n",
    "\n",
    "**The following information is from the NumPy documentation.**\n",
    "\n",
    "https://numpy.org/doc/stable/user/absolute_beginners.html#\n",
    "\n",
    "The sequence of information presented in this notebook follows the documentation sequence."
   ]
  },
  {
   "cell_type": "markdown",
   "id": "7c64d6f1",
   "metadata": {},
   "source": [
    "![](https://raw.githubusercontent.com/jimcody2014/python_images/main/image3_numpy.png)"
   ]
  },
  {
   "cell_type": "markdown",
   "id": "200ce273",
   "metadata": {},
   "source": [
    "![](https://raw.githubusercontent.com/jimcody2014/python_images/main/image5_array.png)"
   ]
  },
  {
   "attachments": {},
   "cell_type": "markdown",
   "id": "ad2dfaf2-616a-45fa-93b6-2406adf0d5da",
   "metadata": {},
   "source": [
    "![](https://raw.githubusercontent.com/jimcody2014/python_images/main/image4_numpyarray.png)"
   ]
  },
  {
   "cell_type": "markdown",
   "id": "89a97d14",
   "metadata": {},
   "source": [
    "# Import NumPy"
   ]
  },
  {
   "cell_type": "code",
   "execution_count": 59,
   "id": "60168458",
   "metadata": {},
   "outputs": [],
   "source": [
    "import numpy as np\n",
    "import pandas as pd\n"
   ]
  },
  {
   "cell_type": "markdown",
   "id": "bee7eef0",
   "metadata": {},
   "source": [
    "# Arrays\n",
    "\n",
    "## Creating a NumPy array:\n",
    "\n",
    "- np.array(), np.zeros(), np.ones(), np.empty(), np.arange(), np.linspace(), dtype"
   ]
  },
  {
   "cell_type": "code",
   "execution_count": 60,
   "id": "d7926b7d",
   "metadata": {},
   "outputs": [
    {
     "name": "stdout",
     "output_type": "stream",
     "text": [
      "<class 'numpy.ndarray'>\n",
      "(5,)\n",
      "<class 'list'>\n",
      "[2 4 5 3 9]\n"
     ]
    }
   ],
   "source": [
    "# Create an array from a list\n",
    "\n",
    "# np.array()          #####################\n",
    "\n",
    "nums = [2,4,5,3,9]    # Assign a list to a variable\n",
    "x = np.array(nums)    # Pass the variable to the method\n",
    "\n",
    "print(type(x))\n",
    "print(np.shape(x))\n",
    "print(type(nums))\n",
    "print(x)"
   ]
  },
  {
   "cell_type": "code",
   "execution_count": 4,
   "id": "f2a4840e",
   "metadata": {},
   "outputs": [
    {
     "name": "stdout",
     "output_type": "stream",
     "text": [
      "<class 'numpy.ndarray'>\n",
      "(3, 5)\n",
      "<class 'tuple'>\n",
      "[[ 2  4  5  3  9]\n",
      " [ 4  7 12 34 76]\n",
      " [99 56 89 23 54]]\n"
     ]
    }
   ],
   "source": [
    "# Create a matrix from a list of lists\n",
    "\n",
    "# Assign a tuple containing list to a variable\n",
    "# Pass the list to the variable\n",
    "\n",
    "nums_l = ([2,4,5,3,9],[4,7,12,34,76],[99,56,89,23,54])\n",
    "\n",
    "y =np.array(nums_l)\n",
    "\n",
    "print(type(y))\n",
    "print(np.shape(y))\n",
    "print(type(nums_l))\n",
    "print (y)"
   ]
  },
  {
   "cell_type": "code",
   "execution_count": 5,
   "id": "973c8be2",
   "metadata": {},
   "outputs": [
    {
     "name": "stdout",
     "output_type": "stream",
     "text": [
      "<class 'numpy.ndarray'>\n",
      "(3, 5)\n",
      "<class 'list'>\n"
     ]
    }
   ],
   "source": [
    "nums_l = [[2,4,5,3,9],[4,7,12,34,76],[99,56,89,23,54]]\n",
    "\n",
    "y =np.array(nums_l)\n",
    "\n",
    "print(type(y))\n",
    "print(np.shape(y))\n",
    "print(type(nums_l))"
   ]
  },
  {
   "cell_type": "code",
   "execution_count": 6,
   "id": "ee1167fe",
   "metadata": {},
   "outputs": [
    {
     "name": "stdout",
     "output_type": "stream",
     "text": [
      "<class 'numpy.ndarray'>\n",
      "(3, 3)\n"
     ]
    }
   ],
   "source": [
    "# Create an array without a variable\n",
    "# Pass the lists directly to the method\n",
    "# Notice the extra square brackets! A list of lists\n",
    "\n",
    "z = np.array([[1,2,3], [3,2,1],[9,9,9]])  \n",
    "\n",
    "print(type(z))\n",
    "print(np.shape(z))"
   ]
  },
  {
   "cell_type": "code",
   "execution_count": 7,
   "id": "423522ea",
   "metadata": {},
   "outputs": [
    {
     "ename": "TypeError",
     "evalue": "array() takes from 1 to 2 positional arguments but 3 were given",
     "output_type": "error",
     "traceback": [
      "\u001b[0;31m---------------------------------------------------------------------------\u001b[0m",
      "\u001b[0;31mTypeError\u001b[0m                                 Traceback (most recent call last)",
      "Cell \u001b[0;32mIn[7], line 4\u001b[0m\n\u001b[1;32m      1\u001b[0m \u001b[38;5;66;03m# This is an intentional failure\u001b[39;00m\n\u001b[1;32m      2\u001b[0m \u001b[38;5;66;03m# Missing square brackets\u001b[39;00m\n\u001b[0;32m----> 4\u001b[0m z \u001b[38;5;241m=\u001b[39m np\u001b[38;5;241m.\u001b[39marray([\u001b[38;5;241m1\u001b[39m,\u001b[38;5;241m2\u001b[39m,\u001b[38;5;241m3\u001b[39m], [\u001b[38;5;241m3\u001b[39m,\u001b[38;5;241m2\u001b[39m,\u001b[38;5;241m1\u001b[39m],[\u001b[38;5;241m9\u001b[39m,\u001b[38;5;241m9\u001b[39m,\u001b[38;5;241m9\u001b[39m])  \n\u001b[1;32m      6\u001b[0m \u001b[38;5;28mprint\u001b[39m(\u001b[38;5;28mtype\u001b[39m(z))\n\u001b[1;32m      7\u001b[0m \u001b[38;5;28mprint\u001b[39m(np\u001b[38;5;241m.\u001b[39mshape(z))\n",
      "\u001b[0;31mTypeError\u001b[0m: array() takes from 1 to 2 positional arguments but 3 were given"
     ]
    }
   ],
   "source": [
    "# This is an intentional failure\n",
    "# Missing square brackets\n",
    "\n",
    "z = np.array([1,2,3], [3,2,1],[9,9,9])  \n",
    "\n",
    "print(type(z))\n",
    "print(np.shape(z))"
   ]
  },
  {
   "cell_type": "code",
   "execution_count": 8,
   "id": "5853b5a4",
   "metadata": {},
   "outputs": [
    {
     "data": {
      "text/plain": [
       "array([0., 0., 0.])"
      ]
     },
     "execution_count": 8,
     "metadata": {},
     "output_type": "execute_result"
    }
   ],
   "source": [
    "# An array of zeros\n",
    "\n",
    "np.zeros(3)"
   ]
  },
  {
   "cell_type": "code",
   "execution_count": 9,
   "id": "f3a815e5",
   "metadata": {},
   "outputs": [
    {
     "data": {
      "text/plain": [
       "array([[0., 0., 0., 0., 0.],\n",
       "       [0., 0., 0., 0., 0.],\n",
       "       [0., 0., 0., 0., 0.],\n",
       "       [0., 0., 0., 0., 0.],\n",
       "       [0., 0., 0., 0., 0.]])"
      ]
     },
     "execution_count": 9,
     "metadata": {},
     "output_type": "execute_result"
    }
   ],
   "source": [
    "np.zeros((5,5))"
   ]
  },
  {
   "cell_type": "code",
   "execution_count": 10,
   "id": "ef869636",
   "metadata": {},
   "outputs": [
    {
     "data": {
      "text/plain": [
       "array([1., 1., 1.])"
      ]
     },
     "execution_count": 10,
     "metadata": {},
     "output_type": "execute_result"
    }
   ],
   "source": [
    "# An array of ones\n",
    "\n",
    "np.ones(3)"
   ]
  },
  {
   "cell_type": "code",
   "execution_count": 11,
   "id": "1f0ed29a",
   "metadata": {},
   "outputs": [
    {
     "data": {
      "text/plain": [
       "array([[1., 1., 1.],\n",
       "       [1., 1., 1.],\n",
       "       [1., 1., 1.]])"
      ]
     },
     "execution_count": 11,
     "metadata": {},
     "output_type": "execute_result"
    }
   ],
   "source": [
    "np.ones((3,3))"
   ]
  },
  {
   "cell_type": "code",
   "execution_count": 12,
   "id": "10b25491",
   "metadata": {},
   "outputs": [
    {
     "data": {
      "text/plain": [
       "array([2.05833592e-312, 2.33419537e-312])"
      ]
     },
     "execution_count": 12,
     "metadata": {},
     "output_type": "execute_result"
    }
   ],
   "source": [
    "# An empty array.  Initial content is random numbers.\n",
    "\n",
    "np.empty(2)"
   ]
  },
  {
   "cell_type": "code",
   "execution_count": 13,
   "id": "4edff8f5",
   "metadata": {},
   "outputs": [
    {
     "data": {
      "text/plain": [
       "array([[0., 0.],\n",
       "       [0., 0.]])"
      ]
     },
     "execution_count": 13,
     "metadata": {},
     "output_type": "execute_result"
    }
   ],
   "source": [
    "np.empty((2,2))"
   ]
  },
  {
   "cell_type": "markdown",
   "id": "ac0acae7",
   "metadata": {},
   "source": [
    "### arange()"
   ]
  },
  {
   "cell_type": "code",
   "execution_count": 14,
   "id": "df290b13",
   "metadata": {},
   "outputs": [],
   "source": [
    "# An array with a range of elements\n",
    "\n",
    "y=np.arange(0,10)   # start at zero and go for 10 positions"
   ]
  },
  {
   "cell_type": "code",
   "execution_count": 15,
   "id": "53661891",
   "metadata": {},
   "outputs": [
    {
     "data": {
      "text/plain": [
       "numpy.ndarray"
      ]
     },
     "execution_count": 15,
     "metadata": {},
     "output_type": "execute_result"
    }
   ],
   "source": [
    "type(y)\n"
   ]
  },
  {
   "cell_type": "code",
   "execution_count": 16,
   "id": "351926f5",
   "metadata": {},
   "outputs": [
    {
     "data": {
      "text/plain": [
       "array([ 0,  2,  4,  6,  8, 10])"
      ]
     },
     "execution_count": 16,
     "metadata": {},
     "output_type": "execute_result"
    }
   ],
   "source": [
    "np.arange(0,11,2)   # start at zero, end at eleven and increment by two"
   ]
  },
  {
   "cell_type": "markdown",
   "id": "7b80824e",
   "metadata": {},
   "source": [
    "### np.linspace()\n",
    "\n",
    "Return evenly spaced numbers over a specified interval."
   ]
  },
  {
   "cell_type": "code",
   "execution_count": 17,
   "id": "84efe261",
   "metadata": {},
   "outputs": [
    {
     "data": {
      "text/plain": [
       "array([ 0.,  5., 10.])"
      ]
     },
     "execution_count": 17,
     "metadata": {},
     "output_type": "execute_result"
    }
   ],
   "source": [
    "np.linspace(0,10,3)"
   ]
  },
  {
   "cell_type": "code",
   "execution_count": 18,
   "id": "f1ffc946",
   "metadata": {},
   "outputs": [
    {
     "data": {
      "text/plain": [
       "array([ 0.        ,  0.20408163,  0.40816327,  0.6122449 ,  0.81632653,\n",
       "        1.02040816,  1.2244898 ,  1.42857143,  1.63265306,  1.83673469,\n",
       "        2.04081633,  2.24489796,  2.44897959,  2.65306122,  2.85714286,\n",
       "        3.06122449,  3.26530612,  3.46938776,  3.67346939,  3.87755102,\n",
       "        4.08163265,  4.28571429,  4.48979592,  4.69387755,  4.89795918,\n",
       "        5.10204082,  5.30612245,  5.51020408,  5.71428571,  5.91836735,\n",
       "        6.12244898,  6.32653061,  6.53061224,  6.73469388,  6.93877551,\n",
       "        7.14285714,  7.34693878,  7.55102041,  7.75510204,  7.95918367,\n",
       "        8.16326531,  8.36734694,  8.57142857,  8.7755102 ,  8.97959184,\n",
       "        9.18367347,  9.3877551 ,  9.59183673,  9.79591837, 10.        ])"
      ]
     },
     "execution_count": 18,
     "metadata": {},
     "output_type": "execute_result"
    }
   ],
   "source": [
    "np.linspace(0,10,50)"
   ]
  },
  {
   "cell_type": "code",
   "execution_count": 19,
   "id": "8681f3a7",
   "metadata": {},
   "outputs": [
    {
     "data": {
      "text/plain": [
       "array([1, 1])"
      ]
     },
     "execution_count": 19,
     "metadata": {},
     "output_type": "execute_result"
    }
   ],
   "source": [
    "np.ones(2, dtype=np.int64)"
   ]
  },
  {
   "cell_type": "code",
   "execution_count": 20,
   "id": "2d09ee02",
   "metadata": {},
   "outputs": [
    {
     "data": {
      "text/plain": [
       "array([1., 1.])"
      ]
     },
     "execution_count": 20,
     "metadata": {},
     "output_type": "execute_result"
    }
   ],
   "source": [
    "np.ones(2, dtype=np.float64)"
   ]
  },
  {
   "cell_type": "markdown",
   "id": "035aae55",
   "metadata": {},
   "source": [
    "## Arrays with Random Numbers\n",
    "\n",
    "- np.random, np.randon.rand, np.randon.randn, np.random.randint"
   ]
  },
  {
   "cell_type": "code",
   "execution_count": 21,
   "id": "fd3af1ca",
   "metadata": {},
   "outputs": [
    {
     "data": {
      "text/plain": [
       "<module 'numpy.random' from '/opt/anaconda3/envs/PythonIntro2024/lib/python3.12/site-packages/numpy/random/__init__.py'>"
      ]
     },
     "execution_count": 21,
     "metadata": {},
     "output_type": "execute_result"
    }
   ],
   "source": [
    "np.random                    # random is a module within numpy"
   ]
  },
  {
   "cell_type": "code",
   "execution_count": 22,
   "id": "5d6f2b44",
   "metadata": {},
   "outputs": [
    {
     "data": {
      "text/plain": [
       "array([0.83713138, 0.5512017 ])"
      ]
     },
     "execution_count": 22,
     "metadata": {},
     "output_type": "execute_result"
    }
   ],
   "source": [
    "np.random.rand(2)            # Creates sample with a uniform distribution"
   ]
  },
  {
   "cell_type": "code",
   "execution_count": 23,
   "id": "b9edde07",
   "metadata": {},
   "outputs": [
    {
     "data": {
      "text/plain": [
       "0.1915194503788923"
      ]
     },
     "execution_count": 23,
     "metadata": {},
     "output_type": "execute_result"
    }
   ],
   "source": [
    "np.random.seed(1234)         # Seed ensures we get the same random numbers\n",
    "np.random.rand()  "
   ]
  },
  {
   "cell_type": "code",
   "execution_count": 24,
   "id": "9567dcc7",
   "metadata": {},
   "outputs": [
    {
     "data": {
      "text/plain": [
       "array([[48, 84, 39, 54, 77, 25],\n",
       "       [16, 50, 24, 27, 31, 44],\n",
       "       [31, 27, 59, 93, 70, 81],\n",
       "       [74, 48, 51, 77, 38, 35],\n",
       "       [39, 68, 12,  1, 76, 81]])"
      ]
     },
     "execution_count": 24,
     "metadata": {},
     "output_type": "execute_result"
    }
   ],
   "source": [
    "np.random.seed(1234)         # Seed ensures we get the same random numbers\n",
    "a = np.random.randint(1,100,6)  \n",
    "b = np.random.randint(1,100,6)\n",
    "c = np.random.randint(1,100,6)\n",
    "d = np.random.randint(1,100,6)\n",
    "e = np.random.randint(1,100,6)\n",
    "\n",
    "f = np.array([a,b,c,d,e])\n",
    "f"
   ]
  },
  {
   "cell_type": "code",
   "execution_count": null,
   "id": "d3ed952a",
   "metadata": {},
   "outputs": [],
   "source": [
    "f[1][1]"
   ]
  },
  {
   "cell_type": "code",
   "execution_count": null,
   "id": "35faa70b",
   "metadata": {},
   "outputs": [],
   "source": [
    "f[2:4,1:4]"
   ]
  },
  {
   "cell_type": "code",
   "execution_count": null,
   "id": "cf5d1621",
   "metadata": {},
   "outputs": [],
   "source": []
  },
  {
   "cell_type": "code",
   "execution_count": null,
   "id": "911834ba",
   "metadata": {},
   "outputs": [],
   "source": [
    "np.random.randn(2)           # Creates a sample using the standard normal distribution"
   ]
  },
  {
   "cell_type": "code",
   "execution_count": null,
   "id": "64962f6b",
   "metadata": {},
   "outputs": [],
   "source": [
    "np.random.randint(1,100)     # Return random integers from low (inclusive) to high (exclusive)"
   ]
  },
  {
   "cell_type": "code",
   "execution_count": null,
   "id": "061f285b",
   "metadata": {},
   "outputs": [],
   "source": [
    "np.random.randint(1,100,10)"
   ]
  },
  {
   "cell_type": "code",
   "execution_count": 26,
   "id": "a8aa4c47",
   "metadata": {},
   "outputs": [],
   "source": [
    "# You can explicity import random and then np. can be left off.\n",
    "\n",
    "from numpy import random"
   ]
  },
  {
   "cell_type": "code",
   "execution_count": 27,
   "id": "411c4033",
   "metadata": {},
   "outputs": [
    {
     "data": {
      "text/plain": [
       "array([0.19151945, 0.62210877])"
      ]
     },
     "execution_count": 27,
     "metadata": {},
     "output_type": "execute_result"
    }
   ],
   "source": [
    "random.seed(1234)\n",
    "random.rand(2)  "
   ]
  },
  {
   "cell_type": "markdown",
   "id": "39e7ca62",
   "metadata": {},
   "source": [
    "### Sort"
   ]
  },
  {
   "cell_type": "code",
   "execution_count": null,
   "id": "0f9831f4",
   "metadata": {},
   "outputs": [],
   "source": [
    "my_arr = np.array([2, 1, 5, 3, 7, 4, 6, 8])\n",
    "np.sort(my_arr)"
   ]
  },
  {
   "cell_type": "markdown",
   "id": "8603944c",
   "metadata": {},
   "source": [
    "### Concatenate"
   ]
  },
  {
   "cell_type": "code",
   "execution_count": null,
   "id": "4cc080c2",
   "metadata": {},
   "outputs": [],
   "source": [
    "a = np.array([1, 2, 3, 4])\n",
    "b = np.array([5, 6, 7, 8])\n",
    "c = np.concatenate((a, b))\n",
    "c"
   ]
  },
  {
   "cell_type": "code",
   "execution_count": null,
   "id": "1be39577",
   "metadata": {},
   "outputs": [],
   "source": [
    "a = np.array([[1, 2, 3, 4]])  # Notice those extra square brackets again!\n",
    "b = np.array([[5, 6, 7, 8]])\n",
    "d = np.concatenate((a, b))\n",
    "d"
   ]
  },
  {
   "cell_type": "code",
   "execution_count": 28,
   "id": "289d4267",
   "metadata": {},
   "outputs": [
    {
     "name": "stdout",
     "output_type": "stream",
     "text": [
      "[[1, 2], [3, 4]] <class 'list'>\n",
      "[[1 2]\n",
      " [3 4]] <class 'numpy.ndarray'>\n",
      "[[5 6]] <class 'numpy.ndarray'>\n"
     ]
    }
   ],
   "source": [
    "# From the documentation\n",
    "\n",
    "q = [[1, 2], [3, 4]]\n",
    "\n",
    "a = np.array([[1, 2], [3, 4]])  # This is a 2x2 matrix\n",
    "b = np.array([[5, 6]])          # This is a 1-d array\n",
    "\n",
    "print(q, type(q))\n",
    "print(a, type(a))\n",
    "print(b, type(b))\n"
   ]
  },
  {
   "cell_type": "code",
   "execution_count": 29,
   "id": "3e7b42e4",
   "metadata": {},
   "outputs": [
    {
     "data": {
      "text/plain": [
       "array([[1, 2],\n",
       "       [3, 4],\n",
       "       [5, 6]])"
      ]
     },
     "execution_count": 29,
     "metadata": {},
     "output_type": "execute_result"
    }
   ],
   "source": [
    "np.concatenate((a, b), axis=0)"
   ]
  },
  {
   "cell_type": "code",
   "execution_count": 30,
   "id": "57addd2f",
   "metadata": {},
   "outputs": [
    {
     "data": {
      "text/plain": [
       "array([[1, 2, 5],\n",
       "       [3, 4, 6]])"
      ]
     },
     "execution_count": 30,
     "metadata": {},
     "output_type": "execute_result"
    }
   ],
   "source": [
    "np.concatenate((a, b.T), axis=1)"
   ]
  },
  {
   "cell_type": "code",
   "execution_count": null,
   "id": "bcb6028d",
   "metadata": {},
   "outputs": [],
   "source": [
    "np.concatenate((a, b), axis=None)"
   ]
  },
  {
   "cell_type": "markdown",
   "id": "1637924d",
   "metadata": {},
   "source": [
    "## Shape and Reshape\n",
    "\n",
    "ndim, size & shape are attributes of the array (not methods).  Notice that () are not used."
   ]
  },
  {
   "cell_type": "code",
   "execution_count": 32,
   "id": "fe43cca1",
   "metadata": {},
   "outputs": [
    {
     "name": "stdout",
     "output_type": "stream",
     "text": [
      "2\n",
      "(2, 2)\n"
     ]
    }
   ],
   "source": [
    "a = np.array([[1, 2], [3, 4]])\n",
    "print(a.ndim)\n",
    "print(a.shape)"
   ]
  },
  {
   "cell_type": "code",
   "execution_count": 33,
   "id": "7b1fd6ea",
   "metadata": {},
   "outputs": [
    {
     "data": {
      "text/plain": [
       "4"
      ]
     },
     "execution_count": 33,
     "metadata": {},
     "output_type": "execute_result"
    }
   ],
   "source": [
    "a.size"
   ]
  },
  {
   "cell_type": "code",
   "execution_count": null,
   "id": "6fc0677a",
   "metadata": {},
   "outputs": [],
   "source": [
    "a.shape"
   ]
  },
  {
   "cell_type": "code",
   "execution_count": 34,
   "id": "15677de6",
   "metadata": {},
   "outputs": [
    {
     "data": {
      "text/plain": [
       "array([ 0,  1,  2,  3,  4,  5,  6,  7,  8,  9, 10, 11, 12, 13, 14, 15, 16,\n",
       "       17, 18, 19, 20, 21, 22, 23, 24, 25, 26, 27, 28, 29, 30, 31, 32, 33,\n",
       "       34, 35, 36, 37, 38, 39, 40, 41, 42, 43, 44, 45, 46, 47, 48, 49])"
      ]
     },
     "execution_count": 34,
     "metadata": {},
     "output_type": "execute_result"
    }
   ],
   "source": [
    "# Reshape an array\n",
    "\n",
    "m = np.arange(50)\n",
    "m"
   ]
  },
  {
   "cell_type": "code",
   "execution_count": 35,
   "id": "ffccbf51",
   "metadata": {},
   "outputs": [
    {
     "data": {
      "text/plain": [
       "array([[ 0,  1,  2,  3,  4,  5,  6,  7,  8,  9],\n",
       "       [10, 11, 12, 13, 14, 15, 16, 17, 18, 19],\n",
       "       [20, 21, 22, 23, 24, 25, 26, 27, 28, 29],\n",
       "       [30, 31, 32, 33, 34, 35, 36, 37, 38, 39],\n",
       "       [40, 41, 42, 43, 44, 45, 46, 47, 48, 49]])"
      ]
     },
     "execution_count": 35,
     "metadata": {},
     "output_type": "execute_result"
    }
   ],
   "source": [
    "m.reshape(5,10)"
   ]
  },
  {
   "cell_type": "code",
   "execution_count": 36,
   "id": "38fd64c2",
   "metadata": {},
   "outputs": [
    {
     "data": {
      "text/plain": [
       "array([[ 0,  1,  2,  3,  4,  5,  6,  7,  8,  9, 10, 11, 12, 13, 14, 15,\n",
       "        16, 17, 18, 19, 20, 21, 22, 23, 24],\n",
       "       [25, 26, 27, 28, 29, 30, 31, 32, 33, 34, 35, 36, 37, 38, 39, 40,\n",
       "        41, 42, 43, 44, 45, 46, 47, 48, 49]])"
      ]
     },
     "execution_count": 36,
     "metadata": {},
     "output_type": "execute_result"
    }
   ],
   "source": [
    "m.reshape(2,25)"
   ]
  },
  {
   "cell_type": "markdown",
   "id": "87391857",
   "metadata": {},
   "source": [
    "## Transpose (swap axes) a matrix"
   ]
  },
  {
   "cell_type": "code",
   "execution_count": 37,
   "id": "43ff2d48",
   "metadata": {},
   "outputs": [
    {
     "data": {
      "text/plain": [
       "array([[ 2,  4,  5,  3,  9],\n",
       "       [ 4,  7, 12, 34, 76],\n",
       "       [99, 56, 89, 23, 54]])"
      ]
     },
     "execution_count": 37,
     "metadata": {},
     "output_type": "execute_result"
    }
   ],
   "source": [
    "nums_l = ([2,4,5,3,9],[4,7,12,34,76],[99,56,89,23,54])\n",
    "x = np.array(nums_l)\n",
    "x"
   ]
  },
  {
   "cell_type": "code",
   "execution_count": 38,
   "id": "fcbf0c07",
   "metadata": {},
   "outputs": [
    {
     "data": {
      "text/plain": [
       "array([[ 2,  4, 99],\n",
       "       [ 4,  7, 56],\n",
       "       [ 5, 12, 89],\n",
       "       [ 3, 34, 23],\n",
       "       [ 9, 76, 54]])"
      ]
     },
     "execution_count": 38,
     "metadata": {},
     "output_type": "execute_result"
    }
   ],
   "source": [
    "x.transpose()"
   ]
  },
  {
   "cell_type": "code",
   "execution_count": 39,
   "id": "23e4a99e",
   "metadata": {},
   "outputs": [
    {
     "data": {
      "text/plain": [
       "array([[54, 23, 89, 56, 99],\n",
       "       [76, 34, 12,  7,  4],\n",
       "       [ 9,  3,  5,  4,  2]])"
      ]
     },
     "execution_count": 39,
     "metadata": {},
     "output_type": "execute_result"
    }
   ],
   "source": [
    "y = np.flip(x)\n",
    "y"
   ]
  },
  {
   "cell_type": "markdown",
   "id": "7fd11e5b",
   "metadata": {},
   "source": [
    "# Indexing, Slicing & Selecting"
   ]
  },
  {
   "cell_type": "code",
   "execution_count": 40,
   "id": "bcf20223",
   "metadata": {},
   "outputs": [
    {
     "data": {
      "text/plain": [
       "array([ 0,  1,  2,  3,  4,  5,  6,  7,  8,  9, 10, 11])"
      ]
     },
     "execution_count": 40,
     "metadata": {},
     "output_type": "execute_result"
    }
   ],
   "source": [
    "m = np.arange(12)\n",
    "m"
   ]
  },
  {
   "cell_type": "code",
   "execution_count": 41,
   "id": "c0e51d17",
   "metadata": {},
   "outputs": [
    {
     "data": {
      "text/plain": [
       "6"
      ]
     },
     "execution_count": 41,
     "metadata": {},
     "output_type": "execute_result"
    }
   ],
   "source": [
    "m[6]"
   ]
  },
  {
   "cell_type": "code",
   "execution_count": 42,
   "id": "162402f2",
   "metadata": {},
   "outputs": [
    {
     "data": {
      "text/plain": [
       "array([2, 3, 4])"
      ]
     },
     "execution_count": 42,
     "metadata": {},
     "output_type": "execute_result"
    }
   ],
   "source": [
    "m[2:5]          # Remember, 5 is not included"
   ]
  },
  {
   "cell_type": "markdown",
   "id": "dfbd314b",
   "metadata": {},
   "source": [
    "## Indexing a 2d array (matrix)"
   ]
  },
  {
   "cell_type": "code",
   "execution_count": 43,
   "id": "543236bb",
   "metadata": {},
   "outputs": [
    {
     "data": {
      "text/plain": [
       "array([[ 2,  4,  5,  3,  9],\n",
       "       [ 4,  7, 12, 34, 76],\n",
       "       [99, 56, 89, 23, 54]])"
      ]
     },
     "execution_count": 43,
     "metadata": {},
     "output_type": "execute_result"
    }
   ],
   "source": [
    "m2 = np.array(([2,4,5,3,9],[4,7,12,34,76],[99,56,89,23,54]))\n",
    "m2"
   ]
  },
  {
   "cell_type": "markdown",
   "id": "fda62aa5",
   "metadata": {},
   "source": [
    "Format is **array_name[row][col]** or **array_name[row,col]**. Comma notation is more common."
   ]
  },
  {
   "cell_type": "code",
   "execution_count": 44,
   "id": "8cd35647",
   "metadata": {},
   "outputs": [
    {
     "data": {
      "text/plain": [
       "array([ 4,  7, 12, 34, 76])"
      ]
     },
     "execution_count": 44,
     "metadata": {},
     "output_type": "execute_result"
    }
   ],
   "source": [
    "#Indexing row\n",
    "m2[1]"
   ]
  },
  {
   "cell_type": "code",
   "execution_count": 45,
   "id": "2388048a",
   "metadata": {},
   "outputs": [
    {
     "data": {
      "text/plain": [
       "4"
      ]
     },
     "execution_count": 45,
     "metadata": {},
     "output_type": "execute_result"
    }
   ],
   "source": [
    "# Getting individual element value\n",
    "m2[1][0]"
   ]
  },
  {
   "cell_type": "code",
   "execution_count": 46,
   "id": "45842480",
   "metadata": {},
   "outputs": [
    {
     "data": {
      "text/plain": [
       "4"
      ]
     },
     "execution_count": 46,
     "metadata": {},
     "output_type": "execute_result"
    }
   ],
   "source": [
    "# Getting individual element value\n",
    "m2[1,0]"
   ]
  },
  {
   "cell_type": "code",
   "execution_count": 48,
   "id": "7fcf4d97-b420-4892-8ed6-4e74f3220877",
   "metadata": {},
   "outputs": [
    {
     "data": {
      "text/plain": [
       "array([[ 2,  4,  5,  3,  9],\n",
       "       [ 4,  7, 12, 34, 76],\n",
       "       [99, 56, 89, 23, 54]])"
      ]
     },
     "execution_count": 48,
     "metadata": {},
     "output_type": "execute_result"
    }
   ],
   "source": [
    "m2"
   ]
  },
  {
   "cell_type": "code",
   "execution_count": 47,
   "id": "df933898",
   "metadata": {},
   "outputs": [
    {
     "data": {
      "text/plain": [
       "array([[ 4,  5,  3,  9],\n",
       "       [ 7, 12, 34, 76]])"
      ]
     },
     "execution_count": 47,
     "metadata": {},
     "output_type": "execute_result"
    }
   ],
   "source": [
    "# 2D array slicing\n",
    "\n",
    "m2[:2,1:]  # Get all values in rows 0 & 1, get all values in those rows after the first column."
   ]
  },
  {
   "cell_type": "code",
   "execution_count": 50,
   "id": "6430da85",
   "metadata": {},
   "outputs": [
    {
     "data": {
      "text/plain": [
       "23"
      ]
     },
     "execution_count": 50,
     "metadata": {},
     "output_type": "execute_result"
    }
   ],
   "source": [
    "m2[2,3]"
   ]
  },
  {
   "cell_type": "code",
   "execution_count": null,
   "id": "7bd20fd0",
   "metadata": {},
   "outputs": [],
   "source": [
    "m2[2,:]"
   ]
  },
  {
   "cell_type": "markdown",
   "id": "0a1898c3",
   "metadata": {},
   "source": [
    "## Selecting (if time permits)"
   ]
  },
  {
   "cell_type": "code",
   "execution_count": null,
   "id": "cf1c17fc",
   "metadata": {},
   "outputs": [],
   "source": [
    "m2 = np.array(([2,4,5,3,9],[4,7,12,34,76],[99,56,89,23,54]))\n",
    "m2"
   ]
  },
  {
   "cell_type": "code",
   "execution_count": null,
   "id": "f7043933",
   "metadata": {},
   "outputs": [],
   "source": [
    "m2 > 4"
   ]
  },
  {
   "cell_type": "code",
   "execution_count": null,
   "id": "3e003bb3",
   "metadata": {},
   "outputs": [],
   "source": [
    "bool_m2 = m2 > 4\n",
    "bool_m2"
   ]
  },
  {
   "cell_type": "code",
   "execution_count": null,
   "id": "1628d398",
   "metadata": {},
   "outputs": [],
   "source": [
    "m2[bool_m2]"
   ]
  },
  {
   "cell_type": "markdown",
   "id": "54933e19",
   "metadata": {},
   "source": [
    "# Operations"
   ]
  },
  {
   "cell_type": "code",
   "execution_count": null,
   "id": "704e2948",
   "metadata": {},
   "outputs": [],
   "source": [
    "# Add arrays together\n",
    "\n",
    "a = np.array([[1, 2, 3, 4]])\n",
    "b = np.array([[5, 6, 7, 8]])\n",
    "a+b"
   ]
  },
  {
   "cell_type": "code",
   "execution_count": null,
   "id": "67d08897",
   "metadata": {},
   "outputs": [],
   "source": [
    "# Perform more math on arrays\n",
    "c = a*b\n",
    "d = a/b\n",
    "e = a-b\n",
    "print(c)\n",
    "print(d)\n",
    "print(e)"
   ]
  },
  {
   "cell_type": "code",
   "execution_count": null,
   "id": "6f0e1881",
   "metadata": {},
   "outputs": [],
   "source": [
    "# Aggregate functions - Sum\n",
    "\n",
    "a.sum()"
   ]
  },
  {
   "cell_type": "code",
   "execution_count": null,
   "id": "83585138",
   "metadata": {},
   "outputs": [],
   "source": [
    "# Aggregate functions - min, max, mean\n",
    "\n",
    "f = a.min()\n",
    "g = a.max()\n",
    "h = a.mean()\n",
    "i = a.std()\n",
    "\n",
    "print(f)\n",
    "print(g)\n",
    "print(h)\n",
    "print(i)"
   ]
  },
  {
   "cell_type": "markdown",
   "id": "f0537c61",
   "metadata": {},
   "source": [
    "## Numpy Array Aggregate Functions\n",
    "\n",
    "![](https://raw.githubusercontent.com/jimcody2014/python_images/main/image7_aggregate.png)\n",
    "https://www.pythonprogramming.in/numpy-aggregate-and-statistical-functions.html![image7_aggregate.png]"
   ]
  },
  {
   "cell_type": "markdown",
   "id": "9952cbf6",
   "metadata": {},
   "source": [
    "## Broadcasting"
   ]
  },
  {
   "cell_type": "code",
   "execution_count": null,
   "id": "793af978",
   "metadata": {},
   "outputs": [],
   "source": [
    "a"
   ]
  },
  {
   "cell_type": "code",
   "execution_count": null,
   "id": "3743c339",
   "metadata": {},
   "outputs": [],
   "source": [
    "a*2"
   ]
  },
  {
   "cell_type": "markdown",
   "id": "4052844b",
   "metadata": {},
   "source": [
    "# Exercises"
   ]
  },
  {
   "cell_type": "code",
   "execution_count": 51,
   "id": "a826037b",
   "metadata": {},
   "outputs": [
    {
     "data": {
      "text/plain": [
       "array([0., 0., 0., 0., 0., 0., 0., 0., 0., 0., 0., 0., 0., 0., 0., 0., 0.,\n",
       "       0., 0., 0.])"
      ]
     },
     "execution_count": 51,
     "metadata": {},
     "output_type": "execute_result"
    }
   ],
   "source": [
    "# Create an array with 20 zeros\n",
    "np.zeros(20)"
   ]
  },
  {
   "cell_type": "code",
   "execution_count": 53,
   "id": "f4d46c3d",
   "metadata": {},
   "outputs": [
    {
     "data": {
      "text/plain": [
       "array([[0., 0., 0., 0., 0.],\n",
       "       [0., 0., 0., 0., 0.],\n",
       "       [0., 0., 0., 0., 0.],\n",
       "       [0., 0., 0., 0., 0.]])"
      ]
     },
     "execution_count": 53,
     "metadata": {},
     "output_type": "execute_result"
    }
   ],
   "source": [
    "# Create a 2d array with 20 zeros\n",
    "np.zeros([4,5])"
   ]
  },
  {
   "cell_type": "code",
   "execution_count": 54,
   "id": "507c5fd8",
   "metadata": {},
   "outputs": [
    {
     "data": {
      "text/plain": [
       "array([1., 1., 1., 1., 1., 1., 1., 1., 1., 1., 1., 1., 1., 1., 1., 1., 1.,\n",
       "       1., 1., 1.])"
      ]
     },
     "execution_count": 54,
     "metadata": {},
     "output_type": "execute_result"
    }
   ],
   "source": [
    "# Create an array of 20 ones\n",
    "np.ones(20)"
   ]
  },
  {
   "cell_type": "code",
   "execution_count": 55,
   "id": "173aab44",
   "metadata": {},
   "outputs": [
    {
     "data": {
      "text/plain": [
       "array([5., 5., 5., 5., 5., 5., 5., 5., 5., 5., 5., 5., 5., 5., 5., 5., 5.,\n",
       "       5., 5., 5.])"
      ]
     },
     "execution_count": 55,
     "metadata": {},
     "output_type": "execute_result"
    }
   ],
   "source": [
    "# Create an array of 20 fives (requires 2 steps)\n",
    "np.ones(20) * 5"
   ]
  },
  {
   "cell_type": "code",
   "execution_count": null,
   "id": "7e961c66",
   "metadata": {},
   "outputs": [],
   "source": [
    "# Create an array with all the odd numbers between 0 and 50\n",
    "np.arange(1,51,2)"
   ]
  },
  {
   "cell_type": "code",
   "execution_count": null,
   "id": "65cd51b3",
   "metadata": {},
   "outputs": [],
   "source": [
    "# Create an array with all the numbers between 15 and 50 incremented by 5\n",
    "\n"
   ]
  },
  {
   "cell_type": "code",
   "execution_count": null,
   "id": "104050fb",
   "metadata": {},
   "outputs": [],
   "source": [
    "# Create a 5 x 5 matrix (name it t) with numbers ranging from 5 to 25\n"
   ]
  },
  {
   "cell_type": "code",
   "execution_count": null,
   "id": "edc2731e",
   "metadata": {},
   "outputs": [],
   "source": []
  },
  {
   "cell_type": "code",
   "execution_count": null,
   "id": "25b1c281",
   "metadata": {},
   "outputs": [],
   "source": [
    "# Using indexing from t, pick out the value 22\n",
    "\n"
   ]
  },
  {
   "cell_type": "code",
   "execution_count": null,
   "id": "c556a931",
   "metadata": {},
   "outputs": [],
   "source": [
    "# Using t, create the following output\n",
    "\n",
    "# array([16, 17, 18])\n",
    "\n"
   ]
  },
  {
   "cell_type": "code",
   "execution_count": null,
   "id": "bcc55a70",
   "metadata": {},
   "outputs": [],
   "source": [
    "# Using t, create the following output\n",
    "\n",
    "# array([[15, 16, 17],\n",
    "#        [20, 21, 22]])\n",
    "\n"
   ]
  },
  {
   "cell_type": "code",
   "execution_count": null,
   "id": "11699989",
   "metadata": {},
   "outputs": [],
   "source": [
    "# Using t, create the following output\n",
    "\n",
    "# array([[ 6],\n",
    "#        [11],\n",
    "#        [16],\n",
    "#        [21]])\n",
    "\n"
   ]
  }
 ],
 "metadata": {
  "kernelspec": {
   "display_name": "Python 3 (ipykernel)",
   "language": "python",
   "name": "python3"
  },
  "language_info": {
   "codemirror_mode": {
    "name": "ipython",
    "version": 3
   },
   "file_extension": ".py",
   "mimetype": "text/x-python",
   "name": "python",
   "nbconvert_exporter": "python",
   "pygments_lexer": "ipython3",
   "version": "3.12.7"
  },
  "toc": {
   "base_numbering": 1,
   "nav_menu": {},
   "number_sections": true,
   "sideBar": true,
   "skip_h1_title": false,
   "title_cell": "Table of Contents",
   "title_sidebar": "Contents",
   "toc_cell": true,
   "toc_position": {
    "height": "calc(100% - 180px)",
    "left": "10px",
    "top": "150px",
    "width": "165px"
   },
   "toc_section_display": true,
   "toc_window_display": true
  },
  "varInspector": {
   "cols": {
    "lenName": 16,
    "lenType": 16,
    "lenVar": 40
   },
   "kernels_config": {
    "python": {
     "delete_cmd_postfix": "",
     "delete_cmd_prefix": "del ",
     "library": "var_list.py",
     "varRefreshCmd": "print(var_dic_list())"
    },
    "r": {
     "delete_cmd_postfix": ") ",
     "delete_cmd_prefix": "rm(",
     "library": "var_list.r",
     "varRefreshCmd": "cat(var_dic_list()) "
    }
   },
   "types_to_exclude": [
    "module",
    "function",
    "builtin_function_or_method",
    "instance",
    "_Feature"
   ],
   "window_display": false
  }
 },
 "nbformat": 4,
 "nbformat_minor": 5
}
