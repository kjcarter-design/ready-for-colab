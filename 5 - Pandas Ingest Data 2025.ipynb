{
 "cells": [
  {
   "cell_type": "markdown",
   "id": "fc820f58",
   "metadata": {
    "toc": true
   },
   "source": [
    "<h1>Table of Contents<span class=\"tocSkip\"></span></h1>\n",
    "<div class=\"toc\"><ul class=\"toc-item\"><li><span><a href=\"#Ingest,-Inspect-&amp;-Clean\" data-toc-modified-id=\"Ingest,-Inspect-&amp;-Clean-1\"><span class=\"toc-item-num\">1&nbsp;&nbsp;</span>Ingest, Inspect &amp; Clean</a></span><ul class=\"toc-item\"><li><span><a href=\"#Ingest-data\" data-toc-modified-id=\"Ingest-data-1.1\"><span class=\"toc-item-num\">1.1&nbsp;&nbsp;</span>Ingest data</a></span><ul class=\"toc-item\"><li><span><a href=\"#Reading-csv-files\" data-toc-modified-id=\"Reading-csv-files-1.1.1\"><span class=\"toc-item-num\">1.1.1&nbsp;&nbsp;</span>Reading csv files</a></span></li><li><span><a href=\"#read_csv-options\" data-toc-modified-id=\"read_csv-options-1.1.2\"><span class=\"toc-item-num\">1.1.2&nbsp;&nbsp;</span>read_csv options</a></span></li><li><span><a href=\"#Ingesting-Dates\" data-toc-modified-id=\"Ingesting-Dates-1.1.3\"><span class=\"toc-item-num\">1.1.3&nbsp;&nbsp;</span>Ingesting Dates</a></span></li><li><span><a href=\"#Reading-other-file-types\" data-toc-modified-id=\"Reading-other-file-types-1.1.4\"><span class=\"toc-item-num\">1.1.4&nbsp;&nbsp;</span>Reading other file types</a></span></li><li><span><a href=\"#Using-an-API-as-input-------This-will-not-run-on-Kaggle\" data-toc-modified-id=\"Using-an-API-as-input-------This-will-not-run-on-Kaggle-1.1.5\"><span class=\"toc-item-num\">1.1.5&nbsp;&nbsp;</span>Using an API as input - - - This will not run on Kaggle</a></span></li><li><span><a href=\"#A-local-example-running-on-my-machine\" data-toc-modified-id=\"A-local-example-running-on-my-machine-1.1.6\"><span class=\"toc-item-num\">1.1.6&nbsp;&nbsp;</span>A local example running on my machine</a></span></li></ul></li><li><span><a href=\"#Exercise---15-minutes\" data-toc-modified-id=\"Exercise---15-minutes-1.2\"><span class=\"toc-item-num\">1.2&nbsp;&nbsp;</span>Exercise - 15 minutes</a></span><ul class=\"toc-item\"><li><span><a href=\"#Part-1\" data-toc-modified-id=\"Part-1-1.2.1\"><span class=\"toc-item-num\">1.2.1&nbsp;&nbsp;</span>Part 1</a></span></li><li><span><a href=\"#Part-2\" data-toc-modified-id=\"Part-2-1.2.2\"><span class=\"toc-item-num\">1.2.2&nbsp;&nbsp;</span>Part 2</a></span></li></ul></li></ul></li><li><span><a href=\"#Renaming-Preview\" data-toc-modified-id=\"Renaming-Preview-2\"><span class=\"toc-item-num\">2&nbsp;&nbsp;</span>Renaming Preview</a></span><ul class=\"toc-item\"><li><span><a href=\"#Rename-using-names-in-read_csv\" data-toc-modified-id=\"Rename-using-names-in-read_csv-2.1\"><span class=\"toc-item-num\">2.1&nbsp;&nbsp;</span>Rename using names in read_csv</a></span></li><li><span><a href=\"#Rename-all-columns-using-rename()\" data-toc-modified-id=\"Rename-all-columns-using-rename()-2.2\"><span class=\"toc-item-num\">2.2&nbsp;&nbsp;</span>Rename all columns using rename()</a></span></li><li><span><a href=\"#Rename-some-columns-using-rename()\" data-toc-modified-id=\"Rename-some-columns-using-rename()-2.3\"><span class=\"toc-item-num\">2.3&nbsp;&nbsp;</span>Rename some columns using rename()</a></span></li><li><span><a href=\"#Rename-using-setaxis()\" data-toc-modified-id=\"Rename-using-setaxis()-2.4\"><span class=\"toc-item-num\">2.4&nbsp;&nbsp;</span>Rename using setaxis()</a></span></li><li><span><a href=\"#Rename-using-.columns\" data-toc-modified-id=\"Rename-using-.columns-2.5\"><span class=\"toc-item-num\">2.5&nbsp;&nbsp;</span>Rename using .columns</a></span></li><li><span><a href=\"#Rename-using-str.replace-(a-string-function)\" data-toc-modified-id=\"Rename-using-str.replace-(a-string-function)-2.6\"><span class=\"toc-item-num\">2.6&nbsp;&nbsp;</span>Rename using str.replace (a string function)</a></span></li></ul></li></ul></div>"
   ]
  },
  {
   "cell_type": "markdown",
   "id": "eea06d49",
   "metadata": {},
   "source": [
    "# Ingest, Inspect & Clean"
   ]
  },
  {
   "cell_type": "code",
   "execution_count": null,
   "id": "daad9985",
   "metadata": {},
   "outputs": [],
   "source": [
    "import numpy as np\n",
    "import pandas as pd\n",
    "from numpy.random import randn\n"
   ]
  },
  {
   "cell_type": "markdown",
   "id": "641347df",
   "metadata": {},
   "source": [
    "## Ingest data\n",
    "\n",
    "https://pandas.pydata.org/docs/user_guide/io.html\n"
   ]
  },
  {
   "cell_type": "markdown",
   "id": "62a282f1",
   "metadata": {},
   "source": [
    "**NOTE**\n",
    "- diabetes1 - 19 columns w/ header\n",
    "- diabetes2 - 19 columns no header"
   ]
  },
  {
   "cell_type": "code",
   "execution_count": null,
   "id": "50cd5c76",
   "metadata": {},
   "outputs": [],
   "source": [
    "# https://raw.githubusercontent.com/jimcody2014/python_data/refs/heads/main/diabetes1.csv\n",
    "# https://raw.githubusercontent.com/jimcody2014/python_data/refs/heads/main/diabetes2.csv\n",
    "# https://raw.githubusercontent.com/jimcody2014/python_data/refs/heads/main/diabetes_inspect.csv"
   ]
  },
  {
   "cell_type": "markdown",
   "id": "2ea30503",
   "metadata": {},
   "source": [
    "### Reading csv files"
   ]
  },
  {
   "cell_type": "code",
   "execution_count": null,
   "id": "a63b1439",
   "metadata": {},
   "outputs": [],
   "source": [
    "diabetes1 = pd.read_csv('https://raw.githubusercontent.com/jimcody2014/python_data/refs/heads/main/diabetes1.csv')"
   ]
  },
  {
   "cell_type": "code",
   "execution_count": null,
   "id": "69966940",
   "metadata": {},
   "outputs": [],
   "source": [
    "diabetes1.head()"
   ]
  },
  {
   "cell_type": "code",
   "execution_count": null,
   "id": "9d714bd4-556c-4b21-bf05-9e766aee9ec7",
   "metadata": {},
   "outputs": [],
   "source": [
    "### Write csv files"
   ]
  },
  {
   "cell_type": "code",
   "execution_count": 3,
   "id": "855d1e53-4ff9-4c1d-aced-0c2406574e35",
   "metadata": {},
   "outputs": [],
   "source": [
    "diabetes1.to_csv('diabetes1.csv')"
   ]
  },
  {
   "cell_type": "code",
   "execution_count": null,
   "id": "6a0d7af9-4f0e-4c0a-b4b8-16c5b3ce9594",
   "metadata": {},
   "outputs": [],
   "source": []
  },
  {
   "cell_type": "code",
   "execution_count": null,
   "id": "e90884ee-b45c-4216-8872-7f7d08e778b6",
   "metadata": {},
   "outputs": [],
   "source": []
  },
  {
   "cell_type": "code",
   "execution_count": null,
   "id": "732d2ed1-2ed4-4a33-b1e0-3c2d79757754",
   "metadata": {},
   "outputs": [],
   "source": []
  },
  {
   "cell_type": "markdown",
   "id": "38a09f51",
   "metadata": {},
   "source": [
    "### read_csv options"
   ]
  },
  {
   "cell_type": "code",
   "execution_count": null,
   "id": "1948939e",
   "metadata": {},
   "outputs": [],
   "source": [
    "df = pd.read_csv('https://raw.githubusercontent.com/jimcody2014/python_data/refs/heads/main/diabetes2.csv')"
   ]
  },
  {
   "cell_type": "code",
   "execution_count": null,
   "id": "ea3f0b20",
   "metadata": {},
   "outputs": [],
   "source": [
    "df.head()"
   ]
  },
  {
   "cell_type": "code",
   "execution_count": null,
   "id": "4d1915a8",
   "metadata": {},
   "outputs": [],
   "source": [
    "df = pd.read_csv('https://raw.githubusercontent.com/jimcody2014/python_data/refs/heads/main/diabetes2.csv', \n",
    "                 header = None)\n",
    "df.head()"
   ]
  },
  {
   "cell_type": "code",
   "execution_count": null,
   "id": "185d04c5",
   "metadata": {},
   "outputs": [],
   "source": [
    "# Override existing column names\n",
    "\n",
    "diabetes1 = pd.read_csv('https://raw.githubusercontent.com/jimcody2014/python_data/refs/heads/main/diabetes2.csv',\n",
    "                       header = 0,\n",
    "                       names = ('EncounterId','b','c','d','e','f','g','h','i','j','k',\n",
    "                                'l','m','n','o','p','q','r','s','EDT'))\n",
    "diabetes1.head()"
   ]
  },
  {
   "cell_type": "code",
   "execution_count": null,
   "id": "93cfcac1",
   "metadata": {},
   "outputs": [],
   "source": [
    "# Use a column as the index\n",
    "\n",
    "df = pd.read_csv('https://raw.githubusercontent.com/jimcody2014/python_data/refs/heads/main/diabetes2.csv', \n",
    "                 header = None, \n",
    "                names = ('EncounterId','b','c','d','e','f','g','h','i','j','k',\n",
    "                         'l','m','n','o','p','q','r','s','EDT'),\n",
    "                index_col = 'EncounterId')\n",
    "df.head()"
   ]
  },
  {
   "cell_type": "code",
   "execution_count": null,
   "id": "d61c5ca7-19d4-4267-a25d-8be03ba4b25d",
   "metadata": {},
   "outputs": [],
   "source": [
    "df.info()"
   ]
  },
  {
   "cell_type": "code",
   "execution_count": null,
   "id": "8fc2f5f7",
   "metadata": {},
   "outputs": [],
   "source": [
    "df.loc[64410]"
   ]
  },
  {
   "cell_type": "code",
   "execution_count": null,
   "id": "006db347",
   "metadata": {},
   "outputs": [],
   "source": [
    "# Only use a subset of the columns\n",
    "\n",
    "df = pd.read_csv('https://raw.githubusercontent.com/jimcody2014/python_data/refs/heads/main/diabetes2.csv', \n",
    "                 header = None, \n",
    "                names = ('EncounterId','b','c','d','e','EDT'),\n",
    "                index_col = 'EncounterId',\n",
    "                usecols = [0,1,2,3,7,19])\n",
    "df.head()"
   ]
  },
  {
   "cell_type": "code",
   "execution_count": null,
   "id": "4f8f4b95",
   "metadata": {},
   "outputs": [],
   "source": [
    "df.info()"
   ]
  },
  {
   "cell_type": "code",
   "execution_count": null,
   "id": "fc00ce35",
   "metadata": {},
   "outputs": [],
   "source": [
    "# Change data types as the data is read in\n",
    "df = pd.read_csv('https://raw.githubusercontent.com/jimcody2014/python_data/refs/heads/main/diabetes2.csv', \n",
    "                 header = None, \n",
    "                names = ('EncounterId','b','c','d','e','EDT'),\n",
    "                index_col = 'EncounterId',\n",
    "                usecols = [0,1,2,3,7,19],\n",
    "                dtype = {'e':object }\n",
    "                )\n",
    "df.info()"
   ]
  },
  {
   "cell_type": "code",
   "execution_count": null,
   "id": "12d8fcfa",
   "metadata": {},
   "outputs": [],
   "source": [
    "# Change data types as the data is read in\n",
    "df = pd.read_csv('https://raw.githubusercontent.com/jimcody2014/python_data/refs/heads/main/diabetes2.csv', \n",
    "                 header = None, \n",
    "                names = ('EncounterId','b','c','d','e','EDT'),\n",
    "                index_col = 'EncounterId',\n",
    "                usecols = [0,1,2,3,7,19],\n",
    "                dtype = object)\n",
    "df.info()"
   ]
  },
  {
   "cell_type": "markdown",
   "id": "061b2188",
   "metadata": {},
   "source": [
    "### Ingesting Dates"
   ]
  },
  {
   "cell_type": "code",
   "execution_count": null,
   "id": "49bffa7b",
   "metadata": {},
   "outputs": [],
   "source": [
    "# Change data types as the data is read in\n",
    "df = pd.read_csv('https://raw.githubusercontent.com/jimcody2014/python_data/refs/heads/main/diabetes2.csv', \n",
    "                 header = None, \n",
    "                names = ('EncounterId','b','c','d','e','EDT'),\n",
    "                index_col = 'EncounterId',\n",
    "                usecols = [0,1,2,3,7,19],\n",
    "                dtype = {'e':object, },\n",
    "                parse_dates=['EDT']\n",
    "                )\n",
    "df.info()"
   ]
  },
  {
   "cell_type": "code",
   "execution_count": null,
   "id": "73ae23b6",
   "metadata": {},
   "outputs": [],
   "source": [
    "df"
   ]
  },
  {
   "cell_type": "code",
   "execution_count": null,
   "id": "ba7d2782",
   "metadata": {},
   "outputs": [],
   "source": [
    "df = pd.read_csv('https://raw.githubusercontent.com/jimcody2014/python_data/refs/heads/main/diabetes2.csv', \n",
    "                 header = None, \n",
    "                 names = ('EncounterId','b','c','d','e','EDT'),\n",
    "                 index_col = 'EncounterId',\n",
    "                 usecols = [0,1,2,3,7,19],\n",
    "                 dtype = {'e':object, },\n",
    "                 parse_dates=['EDT'],\n",
    "                 dayfirst=True                   # Why isn't this working?\n",
    "                )\n",
    "df"
   ]
  },
  {
   "cell_type": "code",
   "execution_count": null,
   "id": "d7f75b8d",
   "metadata": {},
   "outputs": [],
   "source": [
    "df.shape"
   ]
  },
  {
   "cell_type": "code",
   "execution_count": null,
   "id": "e31a7b9a",
   "metadata": {},
   "outputs": [],
   "source": [
    "# Only bring in X number of rows\n",
    "df = pd.read_csv('https://raw.githubusercontent.com/jimcody2014/python_data/refs/heads/main/diabetes2.csv', \n",
    "                 header = None, \n",
    "                names = ('EncounterId','b','c','d','e'),\n",
    "                index_col = 'EncounterId',\n",
    "                usecols = [0,1,2,3,7],\n",
    "                nrows = 1000)\n",
    "df.shape"
   ]
  },
  {
   "cell_type": "markdown",
   "id": "b2775181",
   "metadata": {},
   "source": [
    "### Reading other file types\n",
    "\n",
    " - excel\n",
    " - json\n",
    " - APIs\n",
    " - database"
   ]
  },
  {
   "cell_type": "code",
   "execution_count": null,
   "id": "66e535ec",
   "metadata": {},
   "outputs": [],
   "source": [
    "# Read in an excel spreadsheet\n",
    "# I had to install openpyxl in my anaconda environment for this to work.\n",
    "\n",
    "#imm = pd.read_excel('/Users/jamescody/Documents/python-data/immunotherapy.xlsx')\n",
    "#imm.head()"
   ]
  },
  {
   "cell_type": "code",
   "execution_count": null,
   "id": "3cbde528",
   "metadata": {},
   "outputs": [],
   "source": [
    "# Saving a dataframe to json format\n",
    "#imm.to_json('')"
   ]
  },
  {
   "cell_type": "code",
   "execution_count": null,
   "id": "b2b7f1e0",
   "metadata": {},
   "outputs": [],
   "source": [
    "# Read in a json file\n",
    "\n",
    "imm2 = pd.read_json('https://raw.githubusercontent.com/jimcody2014/python_data/refs/heads/main/immjson.json')\n",
    "imm2.head()"
   ]
  },
  {
   "cell_type": "markdown",
   "id": "70c50f69",
   "metadata": {},
   "source": [
    "### Using an API as input"
   ]
  },
  {
   "cell_type": "code",
   "execution_count": null,
   "id": "c2c1d41d",
   "metadata": {},
   "outputs": [],
   "source": [
    "import requests"
   ]
  },
  {
   "cell_type": "code",
   "execution_count": null,
   "id": "65e1bc35",
   "metadata": {},
   "outputs": [],
   "source": [
    "# Send the request and receive a response\n",
    "# Get the content of the response (there are other parts of the response (e.g., header))\n",
    "# Display the content in json format\n",
    "\n",
    "response = requests.get(\"https://data.cdc.gov/resource/saz5-9hgg.json\")\n",
    "jsonhold = response.json()\n",
    "#jsonhold\n",
    "\n",
    "\n",
    "#  ?$limit=1000000"
   ]
  },
  {
   "cell_type": "code",
   "execution_count": null,
   "id": "e86e5362",
   "metadata": {},
   "outputs": [],
   "source": [
    "# Put the content into a DataFrame\n",
    "# Display the DataFrame\n",
    "\n",
    "vaccines = pd.DataFrame(jsonhold)\n",
    "vaccines.head()"
   ]
  },
  {
   "cell_type": "code",
   "execution_count": null,
   "id": "b0330b8d-bce4-41e5-8c94-2ee44abb2a50",
   "metadata": {},
   "outputs": [],
   "source": [
    "vaccines.shape"
   ]
  },
  {
   "cell_type": "markdown",
   "id": "66689701",
   "metadata": {},
   "source": [
    "## Exercise - 15 minutes\n",
    "\n",
    "### Part 1\n",
    "\n",
    " - Bring the csv file diabetes_inspect into a DataFrame.  Name the dataframe df.\n",
    " - What is its shape?\n",
    " \n",
    "### Part 2\n",
    "\n",
    " - Read the outbreaks2.csv file into a pdf.  Name the df something you will remember.\n",
    " - The csv file does not have a header row. \n",
    " - This data is a listing of food born illness outbreaks.\n",
    " \n",
    " - Do not bring in the 6th or 8th columns.  The df should have 10 columns.\n",
    " - The remaining columns contain the following data.  You can decide how to name the columns\n",
    "   - year\n",
    "   - month\n",
    "   - state\n",
    "   - location\n",
    "   - food\n",
    "   - species\n",
    "   - status\n",
    "   - illnesses\n",
    "   - hospitalizations\n",
    "   - fatalities\n",
    " - What is the shape of this DataFrame?\n",
    "   \n",
    "   ![outbreaks.png](images/outbreaks.png)\n",
    "   \n",
    "   "
   ]
  },
  {
   "cell_type": "code",
   "execution_count": null,
   "id": "75735811",
   "metadata": {},
   "outputs": [],
   "source": [
    "# Part 1\n",
    "\n",
    "df=pd.read_csv('https://raw.githubusercontent.com/jimcody2014/python_data/refs/heads/main/diabetes_inspect.csv')\n",
    "\n",
    "print(df.shape)\n",
    "\n",
    "\n",
    "\n"
   ]
  },
  {
   "cell_type": "code",
   "execution_count": null,
   "id": "6a649e96-a747-4422-987e-9b5bcc0b2430",
   "metadata": {},
   "outputs": [],
   "source": [
    "df.head()"
   ]
  },
  {
   "cell_type": "code",
   "execution_count": null,
   "id": "356cb79b-6c97-4bb0-b002-d4867ab3ddb1",
   "metadata": {},
   "outputs": [],
   "source": [
    "pdf = pd.read_csv('https://raw.githubusercontent.com/jimcody2014/python_data/refs/heads/main/outbreaks2.csv',\n",
    "                  header = None,\n",
    "                  names = ('year','month','state','location','food','species','status','illness','hospitalizations','fatalities'),\n",
    "                  usecols = [0,1,2,3,4,5,7,9,10,11])\n",
    "#print(pdf.shape)\n",
    "print(pdf.head())"
   ]
  },
  {
   "cell_type": "markdown",
   "id": "45ea89de",
   "metadata": {},
   "source": [
    "# Renaming Preview"
   ]
  },
  {
   "cell_type": "markdown",
   "id": "f811fc73",
   "metadata": {},
   "source": [
    "## Rename using names in read_csv"
   ]
  },
  {
   "cell_type": "code",
   "execution_count": null,
   "id": "8f911f0d",
   "metadata": {},
   "outputs": [],
   "source": [
    "imm = pd.read_csv('https://raw.githubusercontent.com/jimcody2014/python_data/refs/heads/main/Immunotherapy.csv')\n",
    "imm.head()\n"
   ]
  },
  {
   "cell_type": "code",
   "execution_count": null,
   "id": "d4ab083c",
   "metadata": {},
   "outputs": [],
   "source": [
    "imm = pd.read_csv('https://raw.githubusercontent.com/jimcody2014/python_data/refs/heads/main/Immunotherapy.csv',\n",
    "                    names = ('a','b','c','d','e','f','g','h'))\n",
    "imm.head()"
   ]
  },
  {
   "cell_type": "markdown",
   "id": "71503f1d",
   "metadata": {},
   "source": [
    "## Rename all columns using rename()"
   ]
  },
  {
   "cell_type": "code",
   "execution_count": null,
   "id": "8cdc05bd",
   "metadata": {},
   "outputs": [],
   "source": [
    "imm.rename(columns = {'a':'a1','b':'b1','c':'c1','d':'d1','e':'e1','f':'f1','g':'g1','h':'h1'}, inplace = False)\n",
    "imm.head()\n",
    "\n"
   ]
  },
  {
   "cell_type": "code",
   "execution_count": null,
   "id": "6725d81a-ec3c-4b90-8fbf-626b31d17b8f",
   "metadata": {},
   "outputs": [],
   "source": [
    "imm.head()"
   ]
  },
  {
   "cell_type": "code",
   "execution_count": null,
   "id": "aa5a9c0a-89b6-4bfd-a327-ef9262f54c6c",
   "metadata": {},
   "outputs": [],
   "source": [
    "# An alternative - using the axis=1\n",
    "imm.rename({'a':'a1','b':'b1','c':'c1','d':'d1','e':'e1','f':'f1','g':'g1','h':'h1'}, axis =1, inplace = True)\n",
    "imm.head()"
   ]
  },
  {
   "cell_type": "markdown",
   "id": "c36c8b73",
   "metadata": {},
   "source": [
    "## Rename some columns using rename()"
   ]
  },
  {
   "cell_type": "code",
   "execution_count": null,
   "id": "3e15f368",
   "metadata": {},
   "outputs": [],
   "source": [
    "imm.rename(columns = {'b1':'BB','e1':'EE'}, inplace = True)\n",
    "imm.head()"
   ]
  },
  {
   "cell_type": "markdown",
   "id": "4b983d33",
   "metadata": {},
   "source": [
    "## Rename using setaxis()"
   ]
  },
  {
   "cell_type": "code",
   "execution_count": null,
   "id": "d599f704",
   "metadata": {},
   "outputs": [],
   "source": [
    "imm.set_axis(['AA','BB','CC','DD','EE','FF','GG','HH'], axis = 'columns')\n",
    "imm.head()"
   ]
  },
  {
   "cell_type": "markdown",
   "id": "0bffed7c",
   "metadata": {},
   "source": [
    "## Rename using .columns"
   ]
  },
  {
   "cell_type": "code",
   "execution_count": null,
   "id": "a981093f",
   "metadata": {},
   "outputs": [],
   "source": [
    "imm.columns = ['AaA','BbB','CcC','DdD','EeE','FfF','GgG','HhH']\n",
    "imm.head()"
   ]
  },
  {
   "cell_type": "markdown",
   "id": "87817815",
   "metadata": {},
   "source": [
    "## Rename using str.replace (a string function)"
   ]
  },
  {
   "cell_type": "code",
   "execution_count": null,
   "id": "e0ab6f6a",
   "metadata": {},
   "outputs": [],
   "source": [
    "imm.columns = imm.columns.str.replace('CcC','CCC')\n",
    "imm.head()"
   ]
  },
  {
   "cell_type": "code",
   "execution_count": null,
   "id": "f2e8995f",
   "metadata": {},
   "outputs": [],
   "source": []
  }
 ],
 "metadata": {
  "kernelspec": {
   "display_name": "Python 3 (ipykernel)",
   "language": "python",
   "name": "python3"
  },
  "language_info": {
   "codemirror_mode": {
    "name": "ipython",
    "version": 3
   },
   "file_extension": ".py",
   "mimetype": "text/x-python",
   "name": "python",
   "nbconvert_exporter": "python",
   "pygments_lexer": "ipython3",
   "version": "3.12.7"
  },
  "toc": {
   "base_numbering": 1,
   "nav_menu": {},
   "number_sections": true,
   "sideBar": true,
   "skip_h1_title": false,
   "title_cell": "Table of Contents",
   "title_sidebar": "Contents",
   "toc_cell": true,
   "toc_position": {
    "height": "calc(100% - 180px)",
    "left": "10px",
    "top": "150px",
    "width": "165px"
   },
   "toc_section_display": true,
   "toc_window_display": true
  },
  "varInspector": {
   "cols": {
    "lenName": 16,
    "lenType": 16,
    "lenVar": 40
   },
   "kernels_config": {
    "python": {
     "delete_cmd_postfix": "",
     "delete_cmd_prefix": "del ",
     "library": "var_list.py",
     "varRefreshCmd": "print(var_dic_list())"
    },
    "r": {
     "delete_cmd_postfix": ") ",
     "delete_cmd_prefix": "rm(",
     "library": "var_list.r",
     "varRefreshCmd": "cat(var_dic_list()) "
    }
   },
   "types_to_exclude": [
    "module",
    "function",
    "builtin_function_or_method",
    "instance",
    "_Feature"
   ],
   "window_display": false
  }
 },
 "nbformat": 4,
 "nbformat_minor": 5
}
